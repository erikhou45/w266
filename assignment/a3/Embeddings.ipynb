{
 "cells": [
  {
   "cell_type": "markdown",
   "metadata": {},
   "source": [
    "# Word Embeddings\n",
    "\n",
    "In this part of the assignment, we'll explore a few properties of word embeddings. We'll use pre-trained GloVe ([Pennington et al. 2013](https://nlp.stanford.edu/pubs/glove.pdf)) embeddings, and evaluate on the analogy task described in ([Mikolov et al. 2013](https://papers.nips.cc/paper/5021-distributed-representations-of-words-and-phrases-and-their-compositionality.pdf)).\n",
    "\n",
    "If you haven't seen the [embeddings.ipynb](../../materials/embeddings/embeddings.ipynb) demo notebook, we recommend you look through it; this part of the assignment will build on that material."
   ]
  },
  {
   "cell_type": "code",
   "execution_count": 2,
   "metadata": {},
   "outputs": [],
   "source": [
    "# Install a few python packages using pip\n",
    "from w266_common import utils\n",
    "utils.require_package(\"wget\")      # for fetching dataset"
   ]
  },
  {
   "cell_type": "code",
   "execution_count": 3,
   "metadata": {},
   "outputs": [],
   "source": [
    "# Standard python helper libraries.\n",
    "import os, sys, re, json, time\n",
    "import itertools, collections\n",
    "from importlib import reload\n",
    "from IPython.display import display\n",
    "\n",
    "# NumPy and SciPy for matrix ops\n",
    "import numpy as np\n",
    "import scipy.sparse\n",
    "\n",
    "# NLTK for NLP utils\n",
    "import nltk\n",
    "\n",
    "# Helper libraries\n",
    "from w266_common import utils, vocabulary, tf_embed_viz"
   ]
  },
  {
   "cell_type": "markdown",
   "metadata": {},
   "source": [
    "# Fits like a GloVe\n",
    "\n",
    "Word embeddings take a long time to train - since the goal is to provide a good representation for as many words as possible, generating good embeddings often requires making several passes over a very large corpus. \n",
    "\n",
    "Fortunately, it's possible to learn fairly general embeddings from large corpora that are useful for many downstream tasks. We'll use the GloVe vectors available at https://nlp.stanford.edu/projects/glove/ - specifically, a set trained with a vocabulary of 400,000 on a corpus of 6B tokens from Wikipedia and Gigaword.\n",
    "\n",
    "The vectors are distributed as a (very) large text file, with one word per line followed by its vector:\n",
    "```\n",
    "the -0.038194 -0.24487 0.72812 -0.39961 0.083172 0.043953 -0.39141 0.3344 -0.57545 0.087459\n",
    "```\n",
    "\n",
    "We've implemented a helper class, `Hands` in `glove_helper.py`, that will parse these files in a memory efficient manner and provide a wrapper object over a NumPy array containing the actual vectors. \n",
    "\n",
    "Run the cell below; the first time, it will download an ~800 MB file to the `data/` directory. **_Please do not check this in to git!_**"
   ]
  },
  {
   "cell_type": "code",
   "execution_count": 4,
   "metadata": {
    "scrolled": true
   },
   "outputs": [
    {
     "name": "stdout",
     "output_type": "stream",
     "text": [
      "Downloading GloVe vectors to data/glove\n",
      "Loading vectors from data/glove/glove.6B.zip\n",
      "Parsing file: data/glove/glove.6B.zip:glove.6B.100d.txt\n",
      "Found 400,000 words.\n",
      "Parsing vectors... Done! (W.shape = (400003, 100))\n"
     ]
    }
   ],
   "source": [
    "import glove_helper; reload(glove_helper)\n",
    "\n",
    "hands = glove_helper.Hands(ndim=100)  # 50, 100, 200, 300 dim are available"
   ]
  },
  {
   "cell_type": "markdown",
   "metadata": {},
   "source": [
    "`hands` has a few properties and methods that might be useful:\n",
    "- `hands.vocab` is a `vocabulary.Vocabulary` object that manages the set of available words\n",
    "- `hands.W` is a matrix of shape $|V| \\times d$ containing the actual vectors, one per row. Row indices are as given by `hands.vocab.word_to_id[word]`.\n",
    "- `hands.get_vector(word)` returns the vector for a word (passed as a string).\n",
    "\n",
    "Note that we let $|V| = $`hands.W.shape[0]`, which in addition to the actual words includes three special tokens: `<s>` (begin sentence), `</s>` (end sentence), and `<unk>` (unknown word)."
   ]
  },
  {
   "cell_type": "markdown",
   "metadata": {},
   "source": [
    "# Part (a): Nearest Neighbors\n",
    "\n",
    "### Cosine Similarity\n",
    "\n",
    "To measure the similarity of two words, we'll use the [cosine similarity](https://en.wikipedia.org/wiki/Cosine_similarity) between their representation vectors:\n",
    "\n",
    "$$ D^{cos}_{ij} = \\frac{v_i^T v_j}{||v_i||\\ ||v_j||}$$\n",
    "\n",
    "*Note that this is called cosine similarity because $D^{cos}_{ij} = \\cos(\\theta_{ij})$, where $\\theta_{ij}$ is the angle between the two vectors.*\n",
    "\n",
    "## Part (a) Questions\n",
    "\n",
    "1. In `vector_math.py`, implement the `find_nn_cos(...)` function. Read the docstring _carefully_ - it describes what you should return. *Hint: use NumPy functions instead of a `for` loop.*\n",
    "<p>\n",
    "2. Use the `show_nns(...)` function below to find the nearest neighbors for the words `\"bank\"`, `\"plane\"`, and `\"flies\"`. Put the closest word (other than *the exact word* itself) in the answers file.  If you inspect `\"flies\"`, for instance, are the neighbors dominated by one sense of the word or is there evidence that the vector encodes meaning of the other senses as well?\n",
    "<p>\n",
    "3. Like `word2vec`, GloVe constructs representations by summarizing word-word coocurrence statistics. Use `show_nns(...)` to find the neighbors of `\"green\"` and `\"celadon\"`, and `\"orange\"`. Explain what you find in terms of the distributional hypothesis and the grounding problem. Does the vector for `\"celadon\"` appear to encode a notion of color? What do they represent, instead?\n",
    "\n",
    "_(The Distributional Hypothesis is the idea that \"you shall know a word by the company it keeps\" (Firth, 1957) - that meaning is derived from the context in which a word is used. Grounding refers to the meaning of language in terms of external concepts, such as real-world entities or physical characteristics.  Take a look at the readings from the first week if you're not confident.)_\n"
   ]
  },
  {
   "cell_type": "code",
   "execution_count": 36,
   "metadata": {},
   "outputs": [
    {
     "name": "stdout",
     "output_type": "stream",
     "text": [
      "Nearest neighbors for 'the'\n",
      "33.886 : 'the'\n",
      "29.051 : 'this'\n",
      "28.830 : 'part'\n",
      "28.813 : 'one'\n",
      "28.223 : 'of'\n",
      "28.208 : 'same'\n",
      "27.822 : 'first'\n",
      "27.786 : 'on'\n",
      "27.683 : 'its'\n",
      "27.544 : 'as'\n",
      "\n"
     ]
    }
   ],
   "source": [
    "import vector_math; reload(vector_math)\n",
    "\n",
    "def show_nns(hands, word, k=10):\n",
    "    \"\"\"Helper function to print neighbors of a given word.\"\"\"\n",
    "    word = word.lower()\n",
    "    print(\"Nearest neighbors for '{:s}'\".format(word))\n",
    "    v = hands.get_vector(word)\n",
    "    for i, sim in zip(*vector_math.find_nn_cos(v, hands.W, k)):\n",
    "        target_word = hands.vocab.id_to_word[i]\n",
    "        print(\"{:.03f} : '{:s}'\".format(sim, target_word))\n",
    "    print(\"\")\n",
    "    \n",
    "show_nns(hands, \"the\")"
   ]
  },
  {
   "cell_type": "code",
   "execution_count": 38,
   "metadata": {},
   "outputs": [
    {
     "name": "stdout",
     "output_type": "stream",
     "text": [
      "Nearest neighbors for 'bank'\n",
      "46.400 : 'bank'\n",
      "37.385 : 'banks'\n",
      "34.943 : 'banking'\n",
      "32.655 : 'credit'\n",
      "32.202 : 'investment'\n",
      "31.447 : 'financial'\n",
      "31.034 : 'securities'\n",
      "30.833 : 'lending'\n",
      "30.090 : 'funds'\n",
      "30.083 : 'ubs'\n",
      "\n",
      "Nearest neighbors for 'plane'\n",
      "40.725 : 'plane'\n",
      "35.235 : 'airplane'\n",
      "33.458 : 'flight'\n",
      "33.378 : 'jet'\n",
      "32.898 : 'crashed'\n",
      "32.288 : 'crash'\n",
      "31.563 : 'planes'\n",
      "31.479 : 'helicopter'\n",
      "30.859 : 'airliner'\n",
      "30.678 : 'flying'\n",
      "\n",
      "Nearest neighbors for 'flies'\n",
      "26.477 : 'flies'\n",
      "19.627 : 'fly'\n",
      "17.045 : 'flying'\n",
      "16.779 : 'insects'\n",
      "16.745 : 'flew'\n",
      "16.355 : 'butterflies'\n",
      "16.259 : 'moths'\n",
      "16.134 : 'moth'\n",
      "15.396 : 'planes'\n",
      "15.253 : 'plane'\n",
      "\n"
     ]
    }
   ],
   "source": [
    "#### YOUR CODE HERE ####\n",
    "# Code for Part (a).2\n",
    "\n",
    "words_of_interest = [\"bank\",\"plane\",\"flies\"]\n",
    "\n",
    "for word in words_of_interest:\n",
    "    show_nns(hands, word)\n",
    "#### END(YOUR CODE) ####"
   ]
  },
  {
   "cell_type": "code",
   "execution_count": 39,
   "metadata": {},
   "outputs": [
    {
     "name": "stdout",
     "output_type": "stream",
     "text": [
      "Nearest neighbors for 'green'\n",
      "33.239 : 'green'\n",
      "27.272 : 'red'\n",
      "26.153 : 'blue'\n",
      "25.955 : 'brown'\n",
      "25.612 : 'yellow'\n",
      "25.342 : 'white'\n",
      "24.899 : 'gray'\n",
      "24.367 : 'black'\n",
      "24.230 : 'pink'\n",
      "24.187 : 'purple'\n",
      "\n",
      "Nearest neighbors for 'celadon'\n",
      "18.135 : 'celadon'\n",
      "11.238 : 'faience'\n",
      "10.926 : 'porcelains'\n",
      "10.780 : 'majolica'\n",
      "10.725 : 'ocher'\n",
      "10.614 : 'blue-and-white'\n",
      "10.424 : 'glazes'\n",
      "10.207 : 'unglazed'\n",
      "10.118 : 'porcelain'\n",
      "9.952 : 'steatite'\n",
      "\n",
      "Nearest neighbors for 'orange'\n",
      "30.715 : 'orange'\n",
      "22.602 : 'yellow'\n",
      "21.933 : 'red'\n",
      "21.863 : 'blue'\n",
      "21.843 : 'green'\n",
      "20.810 : 'pink'\n",
      "20.807 : 'purple'\n",
      "20.609 : 'black'\n",
      "20.433 : 'colored'\n",
      "19.203 : 'lemon'\n",
      "\n"
     ]
    }
   ],
   "source": [
    "#### YOUR CODE HERE ####\n",
    "# Code for Part (a).3\n",
    "words_of_interest = [\"green\",\"celadon\",\"orange\"]\n",
    "\n",
    "for word in words_of_interest:\n",
    "    show_nns(hands, word)\n",
    "\n",
    "#### END(YOUR CODE) ####"
   ]
  },
  {
   "cell_type": "markdown",
   "metadata": {},
   "source": [
    "# Part (b): Linear Analogies\n",
    "\n",
    "In this part, you'll implement the word analogy task described in Section 4 of ([Mikolov et al. 2013](https://arxiv.org/pdf/1301.3781.pdf)), and discussed in section 4.8 and 4.11 of the async.\n",
    "\n",
    "1. In `vector_math.py`, implement the `analogy(...)` function. (*Hint: this should be a very short function, given what you've already written above.*)\n",
    "<p>\n",
    "\n",
    "2. Evaluate the following analogies:\n",
    "<ul>\n",
    "<li> `\"mouse\" is to \"mice\" as \"dog\" is to ____`\n",
    "<li> `\"fast\" is to  \"fastest\"   as \"slow\" is to ____`\n",
    "<li> `\"work\" is to  \"works\"   as \"speak\" is to ____`\n",
    "<li> `\"russia\" is to  \"moscow\"   as \"greece\" is to ____`\n",
    "</ul>\n",
    "\n",
    "<p>\n",
    "\n",
    "3. (Ungraded) Play with a few analogies using the `show_analogy(...)` function below. Concretely, see if you can find at least one more analogy that tests each of the following relationships, and that the model gets right:<ul>\n",
    "<li> Singular / plural\n",
    "<li> Superlatives\n",
    "<li> Verb tense\n",
    "<li> Country / capital\n",
    "</ul>\n",
    "\n",
    "(See Table 1 of [Mikolov et al. 2013](https://arxiv.org/pdf/1301.3781.pdf) for a few ideas)\n",
    "\n",
    "<p>\n",
    "\n",
    "4. Evaluate the following analogies:\n",
    "<ul>\n",
    "<li> `\"lizard\" is to \"reptile\" as \"dog\" is to ____`\n",
    "<li> `\"finger\" is to  \"hand\"   as \"toe\" is to ____`\n",
    "</ul>\n",
    "\n",
    "\n",
    "Similar to before, report the closest word (highest scoring) and exclude any exact match to any of the three words in the analogy query.\n",
    "\n",
    "Think about what types of relations do these test? Does our approach of linear analogies work well here? What assumption is violated by these sorts of relationships? (_Hint: what if we reversed the order, and tested \"reptile\" is to \"lizard\", and so on?_ See [Meronymy](https://en.wikipedia.org/wiki/Meronymy).)"
   ]
  },
  {
   "cell_type": "code",
   "execution_count": 40,
   "metadata": {
    "scrolled": true
   },
   "outputs": [
    {
     "name": "stdout",
     "output_type": "stream",
     "text": [
      "'king' is to 'queen' as 'man' is to ___\n",
      "37.337 : 'woman'\n",
      "36.183 : 'man'\n",
      "34.131 : 'girl'\n",
      "31.663 : 'she'\n",
      "30.614 : 'her'\n",
      "\n"
     ]
    }
   ],
   "source": [
    "import vector_math; reload(vector_math)\n",
    "\n",
    "def show_analogy(hands, a, b, c, k=5):\n",
    "    \"\"\"Compute and print a vector analogy.\"\"\"\n",
    "    a, b, c = a.lower(), b.lower(), c.lower()\n",
    "    va = hands.get_vector(a)\n",
    "    vb = hands.get_vector(b)\n",
    "    vc = hands.get_vector(c)\n",
    "    print(\"'{a:s}' is to '{b:s}' as '{c:s}' is to ___\".format(**locals()))\n",
    "    for i, sim in zip(*vector_math.analogy(va, vb, vc, hands.W, k)):\n",
    "        target_word = hands.vocab.id_to_word[i]\n",
    "        print(\"{:.03f} : '{:s}'\".format(sim, target_word))\n",
    "    print(\"\")\n",
    "    \n",
    "show_analogy(hands, \"king\", \"queen\", \"man\")"
   ]
  },
  {
   "cell_type": "code",
   "execution_count": 44,
   "metadata": {
    "scrolled": false
   },
   "outputs": [
    {
     "name": "stdout",
     "output_type": "stream",
     "text": [
      "'mouse' is to 'mice' as 'dog' is to ___\n",
      "35.748 : 'dogs'\n",
      "32.258 : 'rats'\n",
      "31.631 : 'dog'\n",
      "31.167 : 'cats'\n",
      "30.493 : 'mice'\n",
      "\n",
      "'fast' is to 'fastest' as 'slow' is to ___\n",
      "36.162 : 'fastest'\n",
      "31.471 : 'slowest'\n",
      "27.071 : 'fourth'\n",
      "27.045 : 'slower'\n",
      "26.593 : 'slow'\n",
      "\n",
      "'work' is to 'works' as 'speak' is to ___\n",
      "25.558 : 'speak'\n",
      "22.500 : 'speaks'\n",
      "21.599 : 'spoken'\n",
      "18.836 : 'spoke'\n",
      "18.651 : 'speaking'\n",
      "\n",
      "'russia' is to 'moscow' as 'greece' is to ___\n",
      "28.751 : 'athens'\n",
      "27.165 : 'greece'\n",
      "25.276 : 'thessaloniki'\n",
      "25.175 : 'istanbul'\n",
      "24.082 : 'moscow'\n",
      "\n"
     ]
    }
   ],
   "source": [
    "#### YOUR CODE HERE ####\n",
    "# Code for Part (b).2\n",
    "\n",
    "show_analogy(hands, \"mouse\", \"mice\", \"dog\")\n",
    "show_analogy(hands, \"fast\", \"fastest\", \"slow\")\n",
    "show_analogy(hands, \"work\", \"works\", \"speak\")\n",
    "show_analogy(hands, \"russia\", \"moscow\", \"greece\")\n",
    "\n",
    "#### END(YOUR CODE) ####"
   ]
  },
  {
   "cell_type": "code",
   "execution_count": 45,
   "metadata": {},
   "outputs": [
    {
     "name": "stdout",
     "output_type": "stream",
     "text": [
      "'lion' is to 'lions' as 'bird' is to ___\n",
      "39.463 : 'bird'\n",
      "37.971 : 'birds'\n",
      "36.365 : 'ducks'\n",
      "35.651 : 'dolphins'\n",
      "34.462 : 'avian'\n",
      "\n",
      "'easy' is to 'easiest' as 'hard' is to ___\n",
      "17.383 : 'easiest'\n",
      "15.983 : 'hardest'\n",
      "15.583 : 'toughest'\n",
      "15.154 : 'hard'\n",
      "14.477 : 'harder'\n",
      "\n",
      "'run' is to 'ran' as 'heat' is to ___\n",
      "40.257 : 'heat'\n",
      "27.677 : 'temperature'\n",
      "27.456 : 'hot'\n",
      "26.176 : 'boiling'\n",
      "25.608 : 'heated'\n",
      "\n",
      "'china' is to 'beijing' as 'taiwan' is to ___\n",
      "36.794 : 'taipei'\n",
      "35.536 : 'taiwan'\n",
      "34.908 : 'beijing'\n",
      "31.429 : 'taiwanese'\n",
      "31.271 : 'seoul'\n",
      "\n"
     ]
    }
   ],
   "source": [
    "#### YOUR CODE HERE ####\n",
    "# Code for Part (b).3\n",
    "show_analogy(hands, \"lion\", \"lions\", \"bird\")\n",
    "show_analogy(hands, \"easy\", \"easiest\", \"hard\")\n",
    "show_analogy(hands, \"run\", \"ran\", \"heat\")\n",
    "show_analogy(hands, \"china\", \"beijing\", \"taiwan\")\n",
    "#### END(YOUR CODE) ####"
   ]
  },
  {
   "cell_type": "code",
   "execution_count": 42,
   "metadata": {},
   "outputs": [
    {
     "name": "stdout",
     "output_type": "stream",
     "text": [
      "'lizard' is to 'reptile' as 'dog' is to ___\n",
      "38.067 : 'dog'\n",
      "33.797 : 'dogs'\n",
      "32.794 : 'pet'\n",
      "31.464 : 'puppy'\n",
      "31.193 : 'animal'\n",
      "\n",
      "'finger' is to 'hand' as 'toe' is to ___\n",
      "31.098 : 'toe'\n",
      "25.056 : 'hand'\n",
      "23.316 : 'shoes'\n",
      "22.737 : 'back'\n",
      "22.680 : 'hands'\n",
      "\n"
     ]
    }
   ],
   "source": [
    "#### YOUR CODE HERE ####\n",
    "# Code for Part (b).4\n",
    "\n",
    "show_analogy(hands, \"lizard\", \"reptile\", \"dog\")\n",
    "show_analogy(hands, \"finger\", \"hand\", \"toe\")\n",
    "\n",
    "#### END(YOUR CODE) ####"
   ]
  },
  {
   "cell_type": "code",
   "execution_count": null,
   "metadata": {},
   "outputs": [],
   "source": []
  }
 ],
 "metadata": {
  "anaconda-cloud": {},
  "kernelspec": {
   "display_name": "Python 3",
   "language": "python",
   "name": "python3"
  },
  "language_info": {
   "codemirror_mode": {
    "name": "ipython",
    "version": 3
   },
   "file_extension": ".py",
   "mimetype": "text/x-python",
   "name": "python",
   "nbconvert_exporter": "python",
   "pygments_lexer": "ipython3",
   "version": "3.7.4"
  }
 },
 "nbformat": 4,
 "nbformat_minor": 1
}
